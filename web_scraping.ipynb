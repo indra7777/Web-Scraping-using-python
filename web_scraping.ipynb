{
  "cells": [
    {
      "cell_type": "code",
      "execution_count": null,
      "metadata": {
        "id": "3z6sTrqUDo2x",
        "outputId": "ffd34748-dfb5-456a-c70c-31c649178a56",
        "colab": {
          "base_uri": "https://localhost:8080/"
        }
      },
      "outputs": [
        {
          "output_type": "stream",
          "name": "stdout",
          "text": [
            "\u001b[2K     \u001b[90m━━━━━━━━━━━━━━━━━━━━━━━━━━━━━━━━━━━━━━━━\u001b[0m \u001b[32m62.8/62.8 KB\u001b[0m \u001b[31m2.5 MB/s\u001b[0m eta \u001b[36m0:00:00\u001b[0m\n",
            "\u001b[2K     \u001b[90m━━━━━━━━━━━━━━━━━━━━━━━━━━━━━━━━━━━━━━━\u001b[0m \u001b[32m132.2/132.2 KB\u001b[0m \u001b[31m4.0 MB/s\u001b[0m eta \u001b[36m0:00:00\u001b[0m\n",
            "\u001b[?25h"
          ]
        }
      ],
      "source": [
        "# Install the library\n",
        "!pip install requests --upgrade --quiet\n",
        "!pip install beautifulsoup4 --upgrade --quiet"
      ]
    },
    {
      "cell_type": "code",
      "execution_count": null,
      "metadata": {
        "id": "6uvfZkAlD9aH"
      },
      "outputs": [],
      "source": [
        "import requests\n",
        "topic_url = 'https://github.com/topics/machine-learning'\n",
        "response = requests.get(topic_url)\n",
        "\n",
        "type(response)\n",
        "# is shows the response.models.Respons\n",
        "response.status_code\n",
        "#if it shows 200 ok \n",
        "\n",
        "page_contents = response.text\n",
        "\n",
        "len(page_contents)\n",
        "\n",
        "#it show reponse length\n",
        "\n",
        "page_contents[:1000]\n",
        "#slicing the contents to check it is working or not\n",
        "\n",
        "with open('machine-learning-topics.html', 'w', encoding=\"utf-8\") as file:\n",
        "    file.write(page_contents)\n",
        "\n",
        "# it creates a file name machine-learning-topic.html and content will be copied from\n",
        "#page_contents\n",
        "\n"
      ]
    },
    {
      "cell_type": "code",
      "execution_count": null,
      "metadata": {
        "id": "vAgii1A8GN1O"
      },
      "outputs": [],
      "source": [
        "# Install the library\n",
        "!pip install beautifulsoup4 --upgrade --quiet\n"
      ]
    },
    {
      "cell_type": "code",
      "execution_count": null,
      "metadata": {
        "id": "UinOHsvhG8Fb",
        "outputId": "5a765a58-e3ab-4f11-edea-ac81a9b0b477",
        "colab": {
          "base_uri": "https://localhost:8080/"
        }
      },
      "outputs": [
        {
          "output_type": "execute_result",
          "data": {
            "text/plain": [
              "[<button aria-expanded=\"false\" class=\"HeaderMenu-link border-0 width-full width-lg-auto px-0 px-lg-2 py-3 py-lg-2 no-wrap d-flex flex-items-center flex-justify-between js-details-target\" type=\"button\">\n",
              "         Product\n",
              "         <svg aria-hidden=\"true\" class=\"octicon octicon-chevron-down HeaderMenu-icon ml-1\" data-view-component=\"true\" height=\"16\" opacity=\"0.5\" version=\"1.1\" viewbox=\"0 0 16 16\" width=\"16\">\n",
              " <path d=\"M12.78 5.22a.749.749 0 0 1 0 1.06l-4.25 4.25a.749.749 0 0 1-1.06 0L3.22 6.28a.749.749 0 1 1 1.06-1.06L8 8.939l3.72-3.719a.749.749 0 0 1 1.06 0Z\"></path>\n",
              " </svg>\n",
              " </button>,\n",
              " <button aria-expanded=\"false\" class=\"HeaderMenu-link border-0 width-full width-lg-auto px-0 px-lg-2 py-3 py-lg-2 no-wrap d-flex flex-items-center flex-justify-between js-details-target\" type=\"button\">\n",
              "         Solutions\n",
              "         <svg aria-hidden=\"true\" class=\"octicon octicon-chevron-down HeaderMenu-icon ml-1\" data-view-component=\"true\" height=\"16\" opacity=\"0.5\" version=\"1.1\" viewbox=\"0 0 16 16\" width=\"16\">\n",
              " <path d=\"M12.78 5.22a.749.749 0 0 1 0 1.06l-4.25 4.25a.749.749 0 0 1-1.06 0L3.22 6.28a.749.749 0 1 1 1.06-1.06L8 8.939l3.72-3.719a.749.749 0 0 1 1.06 0Z\"></path>\n",
              " </svg>\n",
              " </button>,\n",
              " <button aria-expanded=\"false\" class=\"HeaderMenu-link border-0 width-full width-lg-auto px-0 px-lg-2 py-3 py-lg-2 no-wrap d-flex flex-items-center flex-justify-between js-details-target\" type=\"button\">\n",
              "         Open Source\n",
              "         <svg aria-hidden=\"true\" class=\"octicon octicon-chevron-down HeaderMenu-icon ml-1\" data-view-component=\"true\" height=\"16\" opacity=\"0.5\" version=\"1.1\" viewbox=\"0 0 16 16\" width=\"16\">\n",
              " <path d=\"M12.78 5.22a.749.749 0 0 1 0 1.06l-4.25 4.25a.749.749 0 0 1-1.06 0L3.22 6.28a.749.749 0 1 1 1.06-1.06L8 8.939l3.72-3.719a.749.749 0 0 1 1.06 0Z\"></path>\n",
              " </svg>\n",
              " </button>,\n",
              " <a class=\"HeaderMenu-link no-underline px-0 px-lg-2 py-3 py-lg-2 d-block d-lg-inline-block\" data-analytics-event='{\"category\":\"Header menu top item (logged out)\",\"action\":\"click to go to Pricing\",\"label\":\"ref_cta:Pricing;\"}' href=\"/pricing\">Pricing</a>,\n",
              " <a class=\"HeaderMenu-link HeaderMenu-link--sign-in flex-shrink-0 no-underline d-block d-lg-inline-block border border-lg-0 rounded rounded-lg-0 p-2 p-lg-0\" data-ga-click=\"(Logged out) Header, clicked Sign in, text:sign-in\" data-hydro-click='{\"event_type\":\"authentication.click\",\"payload\":{\"location_in_page\":\"site header menu\",\"repository_id\":null,\"auth_type\":\"SIGN_UP\",\"originating_url\":\"https://github.com/topics/machine-learning\",\"user_id\":null}}' data-hydro-click-hmac=\"77fa0805c2ee5e083e5dbe5571a2e37d8661eca3a115806e97d54914b8332ea9\" href=\"/login?return_to=https%3A%2F%2Fgithub.com%2Ftopics%2Fmachine-learning\">\n",
              "               Sign in\n",
              "             </a>,\n",
              " <a class=\"HeaderMenu-link HeaderMenu-link--sign-up flex-shrink-0 d-none d-lg-inline-block no-underline border color-border-default rounded px-2 py-1\" data-analytics-event='{\"category\":\"Sign up\",\"action\":\"click to sign up for account\",\"label\":\"ref_page:/topics/machine-learning;ref_cta:Sign up;ref_loc:header logged out\"}' data-hydro-click='{\"event_type\":\"authentication.click\",\"payload\":{\"location_in_page\":\"site header menu\",\"repository_id\":null,\"auth_type\":\"SIGN_UP\",\"originating_url\":\"https://github.com/topics/machine-learning\",\"user_id\":null}}' data-hydro-click-hmac=\"77fa0805c2ee5e083e5dbe5571a2e37d8661eca3a115806e97d54914b8332ea9\" href=\"/signup?ref_cta=Sign+up&amp;ref_loc=header+logged+out&amp;ref_page=%2Ftopics%2Fmachine-learning&amp;source=header\">\n",
              "               Sign up\n",
              "             </a>]"
            ]
          },
          "metadata": {},
          "execution_count": 4
        }
      ],
      "source": [
        "from bs4 import BeautifulSoup\n",
        "with open('machine-learning-topics.html', 'r') as f:\n",
        "    html_source = f.read()\n",
        "  \n",
        "doc = BeautifulSoup(html_source, 'html.parser')\n",
        "\n",
        "type(doc)\n",
        "# it shows bs4.Beautifulsoup\n",
        "\n",
        "doc.title.string\n",
        "#it shows title value or html title\n",
        "\n",
        "first_link = doc.a\n",
        "\n",
        "first_link.text\n",
        "doc.find_all('a')[0:3]\n",
        "# it finds all <a> tags in html page\n",
        "\n",
        "first_link['class']\n",
        "# All classes it will form a array \n",
        "\n",
        "first_link.attrs\n",
        "#All attributes key with values form a dictionary\n",
        "\n",
        "#searching by Attribute value\n",
        "\n",
        "doc.find_all('img',{'alt':'transformers'})\n",
        "# image tag with attribute value alt = \"transformers\"\n",
        "\n",
        "#searching by class\n",
        "\n",
        "doc.find_all(class_=\"HeaderMenu-link\")\n",
        "#it will give all tags containing class vallue = \"HeaderMenu-link\""
      ]
    },
    {
      "cell_type": "code",
      "execution_count": null,
      "metadata": {
        "id": "dsX1mAFXOvtL",
        "outputId": "c4b8f3ea-ce26-4199-f396-406fa83bbf74",
        "colab": {
          "base_uri": "https://localhost:8080/"
        }
      },
      "outputs": [
        {
          "output_type": "execute_result",
          "data": {
            "text/plain": [
              "[{'title': 'Pricing', 'url': 'https://github.com/pricing'},\n",
              " {'title': 'Sign in',\n",
              "  'url': 'https://github.com/login?return_to=https%3A%2F%2Fgithub.com%2Ftopics%2Fmachine-learning'},\n",
              " {'title': 'Sign up',\n",
              "  'url': 'https://github.com/signup?ref_cta=Sign+up&ref_loc=header+logged+out&ref_page=%2Ftopics%2Fmachine-learning&source=header'}]"
            ]
          },
          "metadata": {},
          "execution_count": 5
        }
      ],
      "source": [
        "#next parsing information from tags\n",
        "header_link_tags = doc.find_all('a',class_=\"HeaderMenu-link\")\n",
        "header_link_tags[0]['href']\n",
        "#it shows value of first hyper link that contain attr = \"href\" value\n",
        "\n",
        "header_links = []\n",
        "\n",
        "base_url = 'https://github.com'\n",
        "\n",
        "for tag in header_link_tags:\n",
        "  header_links.append({'title':tag.text.strip(),'url':base_url+tag['href']})\n",
        "\n",
        "header_links"
      ]
    },
    {
      "cell_type": "code",
      "execution_count": null,
      "metadata": {
        "id": "egxE_Mw6QLNm",
        "outputId": "10b52248-bd81-4a63-98e6-2bb219a4f346",
        "colab": {
          "base_uri": "https://localhost:8080/"
        }
      },
      "outputs": [
        {
          "output_type": "execute_result",
          "data": {
            "text/plain": [
              "[<ul class=\"top-list\">\n",
              " <li>Item 1</li>\n",
              " <li>Item 2</li>\n",
              " <li>\n",
              " <ul>\n",
              " <li>Item 3.1</li>\n",
              " <li>Item 3.2</li>\n",
              " <li>Item 3.3</li>\n",
              " </ul>\n",
              " </li>\n",
              " </ul>]"
            ]
          },
          "metadata": {},
          "execution_count": 6
        }
      ],
      "source": [
        "sample_html = \"\"\"\n",
        "<html>\n",
        "    <body>\n",
        "        <ul class=\"top-list\">\n",
        "            <li>Item 1</li>\n",
        "            <li>Item 2</li>\n",
        "            <li>\n",
        "                <ul>\n",
        "                    <li>Item 3.1</li>\n",
        "                    <li>Item 3.2</li>\n",
        "                    <li>Item 3.3</li>\n",
        "                </ul> \n",
        "            </li>\n",
        "        </ul>\n",
        "    </body>\n",
        "</html>\"\"\"\n",
        "\n",
        "sample_doc = BeautifulSoup(sample_html)\n",
        "list_tag = sample_doc.find_all('ul', class_='top-list')\n",
        "list_tag"
      ]
    },
    {
      "cell_type": "markdown",
      "metadata": {
        "id": "yyyB7IZ0J6sP"
      },
      "source": [
        "#1 requesting a html page through url"
      ]
    },
    {
      "cell_type": "code",
      "execution_count": null,
      "metadata": {
        "id": "MQOHWHxZRxw8"
      },
      "outputs": [],
      "source": [
        "def get_topic_page(topic):\n",
        "    # Construct the URL\n",
        "    topic_repos_url = 'https://github.com/topics/' + topic\n",
        "    \n",
        "    # Get the HTML page content using requests\n",
        "    response = requests.get(topic_repos_url)\n",
        "    \n",
        "    # Ensure that the reponse is valid\n",
        "    if response.status_code != 200:\n",
        "        print('Status code:', response.status_code)\n",
        "        raise Exception('Failed to fetch web page ' + topic_repos_url)\n",
        "    \n",
        "    # Construct a beautiful soup document\n",
        "    doc = BeautifulSoup(response.text)\n",
        "    \n",
        "    return doc"
      ]
    },
    {
      "cell_type": "code",
      "execution_count": null,
      "metadata": {
        "id": "hpUl4xC6R-qh",
        "outputId": "1b0a1143-bc2c-44a3-9d6a-f88c9cf242a6",
        "colab": {
          "base_uri": "https://localhost:8080/",
          "height": 36
        }
      },
      "outputs": [
        {
          "output_type": "execute_result",
          "data": {
            "text/plain": [
              "'machine-learning · GitHub Topics · GitHub'"
            ],
            "application/vnd.google.colaboratory.intrinsic+json": {
              "type": "string"
            }
          },
          "metadata": {},
          "execution_count": 8
        }
      ],
      "source": [
        "doc = get_topic_page('machine-learning')\n",
        "doc.title.string"
      ]
    },
    {
      "cell_type": "markdown",
      "metadata": {
        "id": "V-IUb4jiKHGw"
      },
      "source": [
        "#2 getting repo_name repo_path"
      ]
    },
    {
      "cell_type": "code",
      "execution_count": null,
      "metadata": {
        "id": "tRlXpokgSYvi",
        "outputId": "118ff15e-3c6c-482e-f875-4bd23b1f19de",
        "colab": {
          "base_uri": "https://localhost:8080/",
          "height": 36
        }
      },
      "outputs": [
        {
          "output_type": "execute_result",
          "data": {
            "text/plain": [
              "'https://github.com/Developer-Y/cs-video-courses'"
            ],
            "application/vnd.google.colaboratory.intrinsic+json": {
              "type": "string"
            }
          },
          "metadata": {},
          "execution_count": 9
        }
      ],
      "source": [
        "#creating for data analysis\n",
        "doc2 = get_topic_page('data-analysis')\n",
        "doc2.title.text\n",
        "\n",
        "article_tags = doc.find_all('article', class_='border rounded color-shadow-small color-bg-subtle my-4')\n",
        "#  len(article_tags) to find length\n",
        "\n",
        "article_tag = article_tags[4]\n",
        "\n",
        "h3_tag = article_tag.find('h3')\n",
        "\n",
        "a_tag = h3_tag.find_all('a',recursive=False)\n",
        "\n",
        "username = a_tag[0].text.strip()\n",
        "username\n",
        "\n",
        "repo_name = a_tag[1].text.strip()\n",
        "repo_name\n",
        "\n",
        "repo_path = a_tag[1]['href'].strip()\n",
        "repo_path\n",
        "\n",
        "base_url = 'https://github.com'\n",
        "repo_url = base_url+repo_path\n",
        "repo_url\n"
      ]
    },
    {
      "cell_type": "code",
      "execution_count": null,
      "metadata": {
        "id": "W7-ox1zpFsYW",
        "outputId": "e10c53f2-a571-4001-b3d6-c6e8949608a1",
        "colab": {
          "base_uri": "https://localhost:8080/",
          "height": 36
        }
      },
      "outputs": [
        {
          "output_type": "execute_result",
          "data": {
            "text/plain": [
              "'53.7k'"
            ],
            "application/vnd.google.colaboratory.intrinsic+json": {
              "type": "string"
            }
          },
          "metadata": {},
          "execution_count": 10
        }
      ],
      "source": [
        "article_tags[4]\n",
        "a_star_tag = article_tags[4].find('span',class_='Counter js-social-count')\n",
        "a_star_tag.text.strip()"
      ]
    },
    {
      "cell_type": "code",
      "execution_count": null,
      "metadata": {
        "id": "JE7dvVz9HC6b"
      },
      "outputs": [],
      "source": [
        "def parse_star_count(stars_str):\n",
        "  stars_str = stars_str.strip()\n",
        "  if stars_str[-1] == 'k':\n",
        "    return int(float(stars_str[:-1])*1000)\n",
        "  else:\n",
        "    return int(stars_str)"
      ]
    },
    {
      "cell_type": "code",
      "execution_count": null,
      "metadata": {
        "id": "bWBGgXttIhGK"
      },
      "outputs": [],
      "source": [
        "parse_star_count('40.3k')\n",
        "parse_star_count('991')\n",
        "star_count = parse_star_count(a_star_tag.text.strip())"
      ]
    },
    {
      "cell_type": "code",
      "execution_count": null,
      "metadata": {
        "colab": {
          "base_uri": "https://localhost:8080/"
        },
        "id": "VlURw09AJJV3",
        "outputId": "b0ffebc4-d65b-4281-a309-bf165e93a4ad"
      },
      "outputs": [
        {
          "output_type": "stream",
          "name": "stdout",
          "text": [
            "Repository name: cs-video-courses\n",
            "Owner's username: Developer-Y\n",
            "Stars: 53700\n",
            "Repository URL: https://github.com/Developer-Y/cs-video-courses\n"
          ]
        }
      ],
      "source": [
        "print('Repository name:', repo_name)\n",
        "print(\"Owner's username:\", username)\n",
        "print('Stars:', star_count)\n",
        "print('Repository URL:', repo_url)"
      ]
    },
    {
      "cell_type": "code",
      "execution_count": null,
      "metadata": {
        "id": "r6I1UiPMLCot"
      },
      "outputs": [],
      "source": [
        "def parse_repository(article_tag):\n",
        "    # <a> tags containing username, repository name and URL\n",
        "    a_tags = article_tag.h3.find_all('a')\n",
        "    # Owner's username\n",
        "    username = a_tags[0].text.strip()\n",
        "    # Repository name\n",
        "    repo_name = a_tags[1].text.strip()\n",
        "    # Repository URL\n",
        "    repo_url = base_url + a_tags[1]['href'].strip()\n",
        "    # Star count\n",
        "    stars_tag = article_tag.find('span', class_='Counter js-social-count')\n",
        "    star_count = parse_star_count(stars_tag.text.strip())\n",
        "    # Return a dictionary\n",
        "    return {\n",
        "        'repository_name': repo_name,\n",
        "        'owner_username': username,        \n",
        "        'stars': star_count,\n",
        "        'repository_url': repo_url\n",
        "    }"
      ]
    },
    {
      "cell_type": "code",
      "execution_count": null,
      "metadata": {
        "colab": {
          "base_uri": "https://localhost:8080/"
        },
        "id": "TJ4NsmxhLV0Y",
        "outputId": "c8157a86-66e7-4f66-9faf-492d67899545"
      },
      "outputs": [
        {
          "output_type": "execute_result",
          "data": {
            "text/plain": [
              "{'repository_name': 'tensorflow',\n",
              " 'owner_username': 'tensorflow',\n",
              " 'stars': 172000,\n",
              " 'repository_url': 'https://github.com/tensorflow/tensorflow'}"
            ]
          },
          "metadata": {},
          "execution_count": 15
        }
      ],
      "source": [
        "parse_repository(article_tags[0])"
      ]
    },
    {
      "cell_type": "code",
      "execution_count": null,
      "metadata": {
        "colab": {
          "base_uri": "https://localhost:8080/"
        },
        "id": "qi98KACoLbI3",
        "outputId": "1e8aae16-bf53-4c10-f4fa-4a895352452a"
      },
      "outputs": [
        {
          "output_type": "execute_result",
          "data": {
            "text/plain": [
              "{'repository_name': 'faceswap',\n",
              " 'owner_username': 'deepfakes',\n",
              " 'stars': 44000,\n",
              " 'repository_url': 'https://github.com/deepfakes/faceswap'}"
            ]
          },
          "metadata": {},
          "execution_count": 16
        }
      ],
      "source": [
        "parse_repository(article_tags[10])"
      ]
    },
    {
      "cell_type": "code",
      "execution_count": null,
      "metadata": {
        "id": "AxsmDw9mLe-d",
        "outputId": "0762883c-fb51-4478-96aa-cc25eb75bf19",
        "colab": {
          "base_uri": "https://localhost:8080/"
        }
      },
      "outputs": [
        {
          "output_type": "execute_result",
          "data": {
            "text/plain": [
              "[{'repository_name': 'tensorflow',\n",
              "  'owner_username': 'tensorflow',\n",
              "  'stars': 172000,\n",
              "  'repository_url': 'https://github.com/tensorflow/tensorflow'},\n",
              " {'repository_name': 'transformers',\n",
              "  'owner_username': 'huggingface',\n",
              "  'stars': 86500,\n",
              "  'repository_url': 'https://github.com/huggingface/transformers'},\n",
              " {'repository_name': 'pytorch',\n",
              "  'owner_username': 'pytorch',\n",
              "  'stars': 64099,\n",
              "  'repository_url': 'https://github.com/pytorch/pytorch'},\n",
              " {'repository_name': 'keras',\n",
              "  'owner_username': 'keras-team',\n",
              "  'stars': 57700,\n",
              "  'repository_url': 'https://github.com/keras-team/keras'},\n",
              " {'repository_name': 'cs-video-courses',\n",
              "  'owner_username': 'Developer-Y',\n",
              "  'stars': 53700,\n",
              "  'repository_url': 'https://github.com/Developer-Y/cs-video-courses'}]"
            ]
          },
          "metadata": {},
          "execution_count": 17
        }
      ],
      "source": [
        "top_repositories = [parse_repository(tag) for tag in article_tags]\n",
        "len(top_repositories)\n",
        "top_repositories[:5]"
      ]
    },
    {
      "cell_type": "code",
      "execution_count": null,
      "metadata": {
        "id": "cPcDO3pZLsLI"
      },
      "outputs": [],
      "source": [
        "def get_top_repositories(doc):\n",
        "    article_tags = doc.find_all('article', class_='border rounded color-shadow-small color-bg-subtle my-4')\n",
        "    topic_repos = [parse_repository(tag) for tag in article_tags]\n",
        "    return topic_repos"
      ]
    },
    {
      "cell_type": "code",
      "execution_count": null,
      "metadata": {
        "id": "4HzKMtcFM6D8",
        "outputId": "c693f5c1-4001-401a-f0e1-990b0845a409",
        "colab": {
          "base_uri": "https://localhost:8080/"
        }
      },
      "outputs": [
        {
          "output_type": "execute_result",
          "data": {
            "text/plain": [
              "[{'repository_name': 'tensorflow',\n",
              "  'owner_username': 'tensorflow',\n",
              "  'stars': 172000,\n",
              "  'repository_url': 'https://github.com/tensorflow/tensorflow'},\n",
              " {'repository_name': 'transformers',\n",
              "  'owner_username': 'huggingface',\n",
              "  'stars': 86500,\n",
              "  'repository_url': 'https://github.com/huggingface/transformers'},\n",
              " {'repository_name': 'pytorch',\n",
              "  'owner_username': 'pytorch',\n",
              "  'stars': 64099,\n",
              "  'repository_url': 'https://github.com/pytorch/pytorch'},\n",
              " {'repository_name': 'keras',\n",
              "  'owner_username': 'keras-team',\n",
              "  'stars': 57700,\n",
              "  'repository_url': 'https://github.com/keras-team/keras'},\n",
              " {'repository_name': 'cs-video-courses',\n",
              "  'owner_username': 'Developer-Y',\n",
              "  'stars': 53700,\n",
              "  'repository_url': 'https://github.com/Developer-Y/cs-video-courses'}]"
            ]
          },
          "metadata": {},
          "execution_count": 19
        }
      ],
      "source": [
        "topic_page_ml = get_topic_page('machine-learning')\n",
        "top_repos_ml = get_top_repositories(topic_page_ml)\n",
        "top_repos_ml[:5]"
      ]
    },
    {
      "cell_type": "code",
      "execution_count": null,
      "metadata": {
        "id": "X3nqR5y4Nwxu",
        "outputId": "b2374667-8726-471d-f0a7-3ef1f9755dae",
        "colab": {
          "base_uri": "https://localhost:8080/"
        }
      },
      "outputs": [
        {
          "output_type": "execute_result",
          "data": {
            "text/plain": [
              "[{'repository_name': 'scikit-learn',\n",
              "  'owner_username': 'scikit-learn',\n",
              "  'stars': 53400,\n",
              "  'repository_url': 'https://github.com/scikit-learn/scikit-learn'},\n",
              " {'repository_name': 'superset',\n",
              "  'owner_username': 'apache',\n",
              "  'stars': 51100,\n",
              "  'repository_url': 'https://github.com/apache/superset'},\n",
              " {'repository_name': 'pandas',\n",
              "  'owner_username': 'pandas-dev',\n",
              "  'stars': 37300,\n",
              "  'repository_url': 'https://github.com/pandas-dev/pandas'},\n",
              " {'repository_name': 'metabase',\n",
              "  'owner_username': 'metabase',\n",
              "  'stars': 31800,\n",
              "  'repository_url': 'https://github.com/metabase/metabase'},\n",
              " {'repository_name': 'AI-Expert-Roadmap',\n",
              "  'owner_username': 'AMAI-GmbH',\n",
              "  'stars': 24400,\n",
              "  'repository_url': 'https://github.com/AMAI-GmbH/AI-Expert-Roadmap'}]"
            ]
          },
          "metadata": {},
          "execution_count": 20
        }
      ],
      "source": [
        "topic_page_ml = get_topic_page('data-analysis')\n",
        "top_repos_ml = get_top_repositories(topic_page_ml)\n",
        "top_repos_ml[:5]"
      ]
    },
    {
      "cell_type": "code",
      "execution_count": null,
      "metadata": {
        "id": "R6Tc8eVZOCr7",
        "outputId": "c758d1ff-70e0-4cdf-ba33-badb9671b870",
        "colab": {
          "base_uri": "https://localhost:8080/"
        }
      },
      "outputs": [
        {
          "output_type": "execute_result",
          "data": {
            "text/plain": [
              "[{'repository_name': 'system-design-primer',\n",
              "  'owner_username': 'donnemartin',\n",
              "  'stars': 215000,\n",
              "  'repository_url': 'https://github.com/donnemartin/system-design-primer'},\n",
              " {'repository_name': 'tensorflow',\n",
              "  'owner_username': 'tensorflow',\n",
              "  'stars': 172000,\n",
              "  'repository_url': 'https://github.com/tensorflow/tensorflow'},\n",
              " {'repository_name': 'CS-Notes',\n",
              "  'owner_username': 'CyC2018',\n",
              "  'stars': 163000,\n",
              "  'repository_url': 'https://github.com/CyC2018/CS-Notes'},\n",
              " {'repository_name': 'awesome-python',\n",
              "  'owner_username': 'vinta',\n",
              "  'stars': 160000,\n",
              "  'repository_url': 'https://github.com/vinta/awesome-python'},\n",
              " {'repository_name': 'Python',\n",
              "  'owner_username': 'TheAlgorithms',\n",
              "  'stars': 156000,\n",
              "  'repository_url': 'https://github.com/TheAlgorithms/Python'}]"
            ]
          },
          "metadata": {},
          "execution_count": 21
        }
      ],
      "source": [
        "get_top_repositories(get_topic_page('python'))[:5]"
      ]
    },
    {
      "cell_type": "code",
      "execution_count": null,
      "metadata": {
        "id": "SA1nHVrfPKlv"
      },
      "outputs": [],
      "source": [
        "def write_csv(items, path):\n",
        "    # Open the file in write mode\n",
        "    with open(path, 'w') as f:\n",
        "        # Return if there's nothing to write\n",
        "        if len(items) == 0:\n",
        "            return\n",
        "        \n",
        "        # Write the headers in the first line\n",
        "        headers = list(items[0].keys())\n",
        "        f.write(','.join(headers) + '\\n')\n",
        "        \n",
        "        # Write one item per line\n",
        "        for item in items:\n",
        "            values = []\n",
        "            for header in headers:\n",
        "                values.append(str(item.get(header, \"\")))\n",
        "            f.write(','.join(values) + \"\\n\")"
      ]
    },
    {
      "cell_type": "code",
      "source": [
        "import requests\n",
        "from bs4 import BeautifulSoup\n",
        "\n",
        "\n",
        "base_url = 'https://github.com'\n",
        "\n",
        "def scrape_topic_repositories(topic, path=None):\n",
        "    \"\"\"Get the top repositories for a topic and write them to a CSV file\"\"\"\n",
        "    if path is None:\n",
        "        path = topic + '.csv'\n",
        "    topic_page_doc = get_topic_page(topic)\n",
        "    topic_repositories = get_top_repositories(topic_page_doc)\n",
        "    write_csv(topic_repositories, path)\n",
        "    print('Top repositories for topic \"{}\" written to file \"{}\"'.format(topic, path))\n",
        "    return path\n",
        "\n",
        "def get_top_repositories(doc):\n",
        "    \"\"\"Parse the top repositories for a topic given a Beautiful Soup document\"\"\"\n",
        "    article_tags = doc.find_all('article', class_='border rounded color-shadow-small color-bg-subtle my-4')\n",
        "    topic_repos = [parse_repository(tag) for tag in article_tags]\n",
        "    return topic_repos\n",
        "\n",
        "def get_topic_page(topic):\n",
        "    \"\"\"Get the web page containing the top repositories for a topic as a Beautiful Soup document\"\"\"\n",
        "    topic_repos_url = 'https://github.com/topics/' + topic\n",
        "    response = requests.get(topic_repos_url)\n",
        "    if response.status_code != 200:\n",
        "        print('Status code:', response.status_code)\n",
        "        raise Exception('Failed to fetch web page ' + topic_repos_url)\n",
        "    return BeautifulSoup(response.text)    \n",
        "\n",
        "def parse_repository(article_tag):\n",
        "    \"\"\"Parse information about a repository from an <article> tag\"\"\"\n",
        "    a_tags = article_tag.h3.find_all('a')\n",
        "    username = a_tags[0].text.strip()\n",
        "    repo_name = a_tags[1].text.strip()\n",
        "    repo_url = base_url + a_tags[1]['href'].strip()\n",
        "    stars_tag = article_tag.find('span', class_='Counter js-social-count')\n",
        "    star_count = parse_star_count(stars_tag.text.strip())\n",
        "    return {'repository_name': repo_name, 'owner_username': username, 'stars': star_count, 'repository_url': repo_url}\n",
        "\n",
        "def parse_star_count(stars_str):\n",
        "    \"\"\"Parse strings like 40.3k and get the no. of stars as a number\"\"\"\n",
        "    stars_str = stars_str.strip()\n",
        "    return int(float(stars_str[:-1]) * 1000) if stars_str[-1] == 'k' else int(stars_str)\n",
        "\n",
        "def write_csv(items, path):\n",
        "    \"\"\"Write a list of dictionaries to a CSV file\"\"\"\n",
        "    with open(path, 'w') as f:\n",
        "        if len(items) == 0:\n",
        "            return\n",
        "        headers = list(items[0].keys())\n",
        "        f.write(','.join(headers) + '\\n')\n",
        "        for item in items:\n",
        "            values = []\n",
        "            for header in headers:\n",
        "                values.append(str(item.get(header, \"\")))\n",
        "            f.write(','.join(values) + \"\\n\")"
      ],
      "metadata": {
        "id": "M28zDS5gswVA"
      },
      "execution_count": null,
      "outputs": []
    },
    {
      "cell_type": "code",
      "source": [
        "scrape_topic_repositories('machine-learning')"
      ],
      "metadata": {
        "colab": {
          "base_uri": "https://localhost:8080/",
          "height": 53
        },
        "id": "U46WAuKsAcfu",
        "outputId": "28289110-2f04-453b-da00-6d6f8183497a"
      },
      "execution_count": null,
      "outputs": [
        {
          "output_type": "stream",
          "name": "stdout",
          "text": [
            "Top repositories for topic \"machine-learning\" written to file \"machine-learning.csv\"\n"
          ]
        },
        {
          "output_type": "execute_result",
          "data": {
            "text/plain": [
              "'machine-learning.csv'"
            ],
            "application/vnd.google.colaboratory.intrinsic+json": {
              "type": "string"
            }
          },
          "metadata": {},
          "execution_count": 24
        }
      ]
    },
    {
      "cell_type": "code",
      "source": [
        "import pandas as pd"
      ],
      "metadata": {
        "id": "psPdZqx8A5sI"
      },
      "execution_count": null,
      "outputs": []
    },
    {
      "cell_type": "code",
      "source": [
        "pd.read_csv('machine-learning.csv')"
      ],
      "metadata": {
        "colab": {
          "base_uri": "https://localhost:8080/",
          "height": 720
        },
        "id": "o3TMAWYYA94u",
        "outputId": "03cbe69e-5982-42f4-d4eb-971436536c38"
      },
      "execution_count": null,
      "outputs": [
        {
          "output_type": "execute_result",
          "data": {
            "text/plain": [
              "        repository_name   owner_username   stars  \\\n",
              "0            tensorflow       tensorflow  172000   \n",
              "1          transformers      huggingface   86500   \n",
              "2               pytorch          pytorch   64099   \n",
              "3                 keras       keras-team   57700   \n",
              "4      cs-video-courses      Developer-Y   53700   \n",
              "5          scikit-learn     scikit-learn   53400   \n",
              "6             tesseract    tesseract-ocr   49800   \n",
              "7      face_recognition         ageitgey   47600   \n",
              "8      ML-For-Beginners        microsoft   45300   \n",
              "9   awesome-scalability    binhnguyennus   44200   \n",
              "10             faceswap        deepfakes   44000   \n",
              "11  TensorFlow-Examples    aymericdamien   42600   \n",
              "12                julia        JuliaLang   41900   \n",
              "13  100-Days-Of-ML-Code        Avik-Jain   40400   \n",
              "14               d2l-zh           d2l-ai   40400   \n",
              "15          DeepFaceLab           iperov   38000   \n",
              "16               yolov5      ultralytics   36500   \n",
              "17                caffe             BVLC   33200   \n",
              "18         Made-With-ML     GokuMohandas   32800   \n",
              "19      google-research  google-research   28000   \n",
              "\n",
              "                                       repository_url  \n",
              "0            https://github.com/tensorflow/tensorflow  \n",
              "1         https://github.com/huggingface/transformers  \n",
              "2                  https://github.com/pytorch/pytorch  \n",
              "3                 https://github.com/keras-team/keras  \n",
              "4     https://github.com/Developer-Y/cs-video-courses  \n",
              "5        https://github.com/scikit-learn/scikit-learn  \n",
              "6          https://github.com/tesseract-ocr/tesseract  \n",
              "7        https://github.com/ageitgey/face_recognition  \n",
              "8       https://github.com/microsoft/ML-For-Beginners  \n",
              "9   https://github.com/binhnguyennus/awesome-scala...  \n",
              "10              https://github.com/deepfakes/faceswap  \n",
              "11  https://github.com/aymericdamien/TensorFlow-Ex...  \n",
              "12                 https://github.com/JuliaLang/julia  \n",
              "13   https://github.com/Avik-Jain/100-Days-Of-ML-Code  \n",
              "14                   https://github.com/d2l-ai/d2l-zh  \n",
              "15              https://github.com/iperov/DeepFaceLab  \n",
              "16              https://github.com/ultralytics/yolov5  \n",
              "17                      https://github.com/BVLC/caffe  \n",
              "18       https://github.com/GokuMohandas/Made-With-ML  \n",
              "19  https://github.com/google-research/google-rese...  "
            ],
            "text/html": [
              "\n",
              "  <div id=\"df-7329b151-ccac-44ff-8bee-388d9fb42ceb\">\n",
              "    <div class=\"colab-df-container\">\n",
              "      <div>\n",
              "<style scoped>\n",
              "    .dataframe tbody tr th:only-of-type {\n",
              "        vertical-align: middle;\n",
              "    }\n",
              "\n",
              "    .dataframe tbody tr th {\n",
              "        vertical-align: top;\n",
              "    }\n",
              "\n",
              "    .dataframe thead th {\n",
              "        text-align: right;\n",
              "    }\n",
              "</style>\n",
              "<table border=\"1\" class=\"dataframe\">\n",
              "  <thead>\n",
              "    <tr style=\"text-align: right;\">\n",
              "      <th></th>\n",
              "      <th>repository_name</th>\n",
              "      <th>owner_username</th>\n",
              "      <th>stars</th>\n",
              "      <th>repository_url</th>\n",
              "    </tr>\n",
              "  </thead>\n",
              "  <tbody>\n",
              "    <tr>\n",
              "      <th>0</th>\n",
              "      <td>tensorflow</td>\n",
              "      <td>tensorflow</td>\n",
              "      <td>172000</td>\n",
              "      <td>https://github.com/tensorflow/tensorflow</td>\n",
              "    </tr>\n",
              "    <tr>\n",
              "      <th>1</th>\n",
              "      <td>transformers</td>\n",
              "      <td>huggingface</td>\n",
              "      <td>86500</td>\n",
              "      <td>https://github.com/huggingface/transformers</td>\n",
              "    </tr>\n",
              "    <tr>\n",
              "      <th>2</th>\n",
              "      <td>pytorch</td>\n",
              "      <td>pytorch</td>\n",
              "      <td>64099</td>\n",
              "      <td>https://github.com/pytorch/pytorch</td>\n",
              "    </tr>\n",
              "    <tr>\n",
              "      <th>3</th>\n",
              "      <td>keras</td>\n",
              "      <td>keras-team</td>\n",
              "      <td>57700</td>\n",
              "      <td>https://github.com/keras-team/keras</td>\n",
              "    </tr>\n",
              "    <tr>\n",
              "      <th>4</th>\n",
              "      <td>cs-video-courses</td>\n",
              "      <td>Developer-Y</td>\n",
              "      <td>53700</td>\n",
              "      <td>https://github.com/Developer-Y/cs-video-courses</td>\n",
              "    </tr>\n",
              "    <tr>\n",
              "      <th>5</th>\n",
              "      <td>scikit-learn</td>\n",
              "      <td>scikit-learn</td>\n",
              "      <td>53400</td>\n",
              "      <td>https://github.com/scikit-learn/scikit-learn</td>\n",
              "    </tr>\n",
              "    <tr>\n",
              "      <th>6</th>\n",
              "      <td>tesseract</td>\n",
              "      <td>tesseract-ocr</td>\n",
              "      <td>49800</td>\n",
              "      <td>https://github.com/tesseract-ocr/tesseract</td>\n",
              "    </tr>\n",
              "    <tr>\n",
              "      <th>7</th>\n",
              "      <td>face_recognition</td>\n",
              "      <td>ageitgey</td>\n",
              "      <td>47600</td>\n",
              "      <td>https://github.com/ageitgey/face_recognition</td>\n",
              "    </tr>\n",
              "    <tr>\n",
              "      <th>8</th>\n",
              "      <td>ML-For-Beginners</td>\n",
              "      <td>microsoft</td>\n",
              "      <td>45300</td>\n",
              "      <td>https://github.com/microsoft/ML-For-Beginners</td>\n",
              "    </tr>\n",
              "    <tr>\n",
              "      <th>9</th>\n",
              "      <td>awesome-scalability</td>\n",
              "      <td>binhnguyennus</td>\n",
              "      <td>44200</td>\n",
              "      <td>https://github.com/binhnguyennus/awesome-scala...</td>\n",
              "    </tr>\n",
              "    <tr>\n",
              "      <th>10</th>\n",
              "      <td>faceswap</td>\n",
              "      <td>deepfakes</td>\n",
              "      <td>44000</td>\n",
              "      <td>https://github.com/deepfakes/faceswap</td>\n",
              "    </tr>\n",
              "    <tr>\n",
              "      <th>11</th>\n",
              "      <td>TensorFlow-Examples</td>\n",
              "      <td>aymericdamien</td>\n",
              "      <td>42600</td>\n",
              "      <td>https://github.com/aymericdamien/TensorFlow-Ex...</td>\n",
              "    </tr>\n",
              "    <tr>\n",
              "      <th>12</th>\n",
              "      <td>julia</td>\n",
              "      <td>JuliaLang</td>\n",
              "      <td>41900</td>\n",
              "      <td>https://github.com/JuliaLang/julia</td>\n",
              "    </tr>\n",
              "    <tr>\n",
              "      <th>13</th>\n",
              "      <td>100-Days-Of-ML-Code</td>\n",
              "      <td>Avik-Jain</td>\n",
              "      <td>40400</td>\n",
              "      <td>https://github.com/Avik-Jain/100-Days-Of-ML-Code</td>\n",
              "    </tr>\n",
              "    <tr>\n",
              "      <th>14</th>\n",
              "      <td>d2l-zh</td>\n",
              "      <td>d2l-ai</td>\n",
              "      <td>40400</td>\n",
              "      <td>https://github.com/d2l-ai/d2l-zh</td>\n",
              "    </tr>\n",
              "    <tr>\n",
              "      <th>15</th>\n",
              "      <td>DeepFaceLab</td>\n",
              "      <td>iperov</td>\n",
              "      <td>38000</td>\n",
              "      <td>https://github.com/iperov/DeepFaceLab</td>\n",
              "    </tr>\n",
              "    <tr>\n",
              "      <th>16</th>\n",
              "      <td>yolov5</td>\n",
              "      <td>ultralytics</td>\n",
              "      <td>36500</td>\n",
              "      <td>https://github.com/ultralytics/yolov5</td>\n",
              "    </tr>\n",
              "    <tr>\n",
              "      <th>17</th>\n",
              "      <td>caffe</td>\n",
              "      <td>BVLC</td>\n",
              "      <td>33200</td>\n",
              "      <td>https://github.com/BVLC/caffe</td>\n",
              "    </tr>\n",
              "    <tr>\n",
              "      <th>18</th>\n",
              "      <td>Made-With-ML</td>\n",
              "      <td>GokuMohandas</td>\n",
              "      <td>32800</td>\n",
              "      <td>https://github.com/GokuMohandas/Made-With-ML</td>\n",
              "    </tr>\n",
              "    <tr>\n",
              "      <th>19</th>\n",
              "      <td>google-research</td>\n",
              "      <td>google-research</td>\n",
              "      <td>28000</td>\n",
              "      <td>https://github.com/google-research/google-rese...</td>\n",
              "    </tr>\n",
              "  </tbody>\n",
              "</table>\n",
              "</div>\n",
              "      <button class=\"colab-df-convert\" onclick=\"convertToInteractive('df-7329b151-ccac-44ff-8bee-388d9fb42ceb')\"\n",
              "              title=\"Convert this dataframe to an interactive table.\"\n",
              "              style=\"display:none;\">\n",
              "        \n",
              "  <svg xmlns=\"http://www.w3.org/2000/svg\" height=\"24px\"viewBox=\"0 0 24 24\"\n",
              "       width=\"24px\">\n",
              "    <path d=\"M0 0h24v24H0V0z\" fill=\"none\"/>\n",
              "    <path d=\"M18.56 5.44l.94 2.06.94-2.06 2.06-.94-2.06-.94-.94-2.06-.94 2.06-2.06.94zm-11 1L8.5 8.5l.94-2.06 2.06-.94-2.06-.94L8.5 2.5l-.94 2.06-2.06.94zm10 10l.94 2.06.94-2.06 2.06-.94-2.06-.94-.94-2.06-.94 2.06-2.06.94z\"/><path d=\"M17.41 7.96l-1.37-1.37c-.4-.4-.92-.59-1.43-.59-.52 0-1.04.2-1.43.59L10.3 9.45l-7.72 7.72c-.78.78-.78 2.05 0 2.83L4 21.41c.39.39.9.59 1.41.59.51 0 1.02-.2 1.41-.59l7.78-7.78 2.81-2.81c.8-.78.8-2.07 0-2.86zM5.41 20L4 18.59l7.72-7.72 1.47 1.35L5.41 20z\"/>\n",
              "  </svg>\n",
              "      </button>\n",
              "      \n",
              "  <style>\n",
              "    .colab-df-container {\n",
              "      display:flex;\n",
              "      flex-wrap:wrap;\n",
              "      gap: 12px;\n",
              "    }\n",
              "\n",
              "    .colab-df-convert {\n",
              "      background-color: #E8F0FE;\n",
              "      border: none;\n",
              "      border-radius: 50%;\n",
              "      cursor: pointer;\n",
              "      display: none;\n",
              "      fill: #1967D2;\n",
              "      height: 32px;\n",
              "      padding: 0 0 0 0;\n",
              "      width: 32px;\n",
              "    }\n",
              "\n",
              "    .colab-df-convert:hover {\n",
              "      background-color: #E2EBFA;\n",
              "      box-shadow: 0px 1px 2px rgba(60, 64, 67, 0.3), 0px 1px 3px 1px rgba(60, 64, 67, 0.15);\n",
              "      fill: #174EA6;\n",
              "    }\n",
              "\n",
              "    [theme=dark] .colab-df-convert {\n",
              "      background-color: #3B4455;\n",
              "      fill: #D2E3FC;\n",
              "    }\n",
              "\n",
              "    [theme=dark] .colab-df-convert:hover {\n",
              "      background-color: #434B5C;\n",
              "      box-shadow: 0px 1px 3px 1px rgba(0, 0, 0, 0.15);\n",
              "      filter: drop-shadow(0px 1px 2px rgba(0, 0, 0, 0.3));\n",
              "      fill: #FFFFFF;\n",
              "    }\n",
              "  </style>\n",
              "\n",
              "      <script>\n",
              "        const buttonEl =\n",
              "          document.querySelector('#df-7329b151-ccac-44ff-8bee-388d9fb42ceb button.colab-df-convert');\n",
              "        buttonEl.style.display =\n",
              "          google.colab.kernel.accessAllowed ? 'block' : 'none';\n",
              "\n",
              "        async function convertToInteractive(key) {\n",
              "          const element = document.querySelector('#df-7329b151-ccac-44ff-8bee-388d9fb42ceb');\n",
              "          const dataTable =\n",
              "            await google.colab.kernel.invokeFunction('convertToInteractive',\n",
              "                                                     [key], {});\n",
              "          if (!dataTable) return;\n",
              "\n",
              "          const docLinkHtml = 'Like what you see? Visit the ' +\n",
              "            '<a target=\"_blank\" href=https://colab.research.google.com/notebooks/data_table.ipynb>data table notebook</a>'\n",
              "            + ' to learn more about interactive tables.';\n",
              "          element.innerHTML = '';\n",
              "          dataTable['output_type'] = 'display_data';\n",
              "          await google.colab.output.renderOutput(dataTable, element);\n",
              "          const docLink = document.createElement('div');\n",
              "          docLink.innerHTML = docLinkHtml;\n",
              "          element.appendChild(docLink);\n",
              "        }\n",
              "      </script>\n",
              "    </div>\n",
              "  </div>\n",
              "  "
            ]
          },
          "metadata": {},
          "execution_count": 26
        }
      ]
    },
    {
      "cell_type": "code",
      "source": [
        "scrape_topic_repositories('data-analysis')"
      ],
      "metadata": {
        "colab": {
          "base_uri": "https://localhost:8080/",
          "height": 53
        },
        "id": "SgY-Ff-aBETa",
        "outputId": "2fb11adb-fd38-4db0-8158-b6347652e22f"
      },
      "execution_count": null,
      "outputs": [
        {
          "output_type": "stream",
          "name": "stdout",
          "text": [
            "Top repositories for topic \"data-analysis\" written to file \"data-analysis.csv\"\n"
          ]
        },
        {
          "output_type": "execute_result",
          "data": {
            "text/plain": [
              "'data-analysis.csv'"
            ],
            "application/vnd.google.colaboratory.intrinsic+json": {
              "type": "string"
            }
          },
          "metadata": {},
          "execution_count": 27
        }
      ]
    },
    {
      "cell_type": "code",
      "source": [
        "pd.read_csv('data-analysis.csv')"
      ],
      "metadata": {
        "colab": {
          "base_uri": "https://localhost:8080/",
          "height": 755
        },
        "id": "f-oB9EHtBKnP",
        "outputId": "2f71c420-b6ae-4f5a-86e2-420747815345"
      },
      "execution_count": null,
      "outputs": [
        {
          "output_type": "execute_result",
          "data": {
            "text/plain": [
              "               repository_name owner_username  stars  \\\n",
              "0                 scikit-learn   scikit-learn  53400   \n",
              "1                     superset         apache  51100   \n",
              "2                       pandas     pandas-dev  37300   \n",
              "3                     metabase       metabase  31800   \n",
              "4            AI-Expert-Roadmap      AMAI-GmbH  24400   \n",
              "5                    streamlit      streamlit  23400   \n",
              "6                    CyberChef           gchq  20600   \n",
              "7   Data-Science-For-Beginners      microsoft  18300   \n",
              "8                     goaccess       allinurl  15900   \n",
              "9                       gradio     gradio-app  14200   \n",
              "10           best-of-ml-python     ml-tooling  13100   \n",
              "11             ydata-profiling        ydataai  10400   \n",
              "12                     airbyte      airbytehq  10000   \n",
              "13                  OpenRefine     OpenRefine   9400   \n",
              "14                    dataease       dataease   9300   \n",
              "15            pandas_exercises     guipsamora   8800   \n",
              "16                 mlcourse.ai          Yorko   8700   \n",
              "17                 statsmodels    statsmodels   8300   \n",
              "18                        pyod       yzhao062   6800   \n",
              "19                       gonum          gonum   6400   \n",
              "\n",
              "                                       repository_url  \n",
              "0        https://github.com/scikit-learn/scikit-learn  \n",
              "1                  https://github.com/apache/superset  \n",
              "2                https://github.com/pandas-dev/pandas  \n",
              "3                https://github.com/metabase/metabase  \n",
              "4      https://github.com/AMAI-GmbH/AI-Expert-Roadmap  \n",
              "5              https://github.com/streamlit/streamlit  \n",
              "6                   https://github.com/gchq/CyberChef  \n",
              "7   https://github.com/microsoft/Data-Science-For-...  \n",
              "8                https://github.com/allinurl/goaccess  \n",
              "9                https://github.com/gradio-app/gradio  \n",
              "10    https://github.com/ml-tooling/best-of-ml-python  \n",
              "11         https://github.com/ydataai/ydata-profiling  \n",
              "12               https://github.com/airbytehq/airbyte  \n",
              "13           https://github.com/OpenRefine/OpenRefine  \n",
              "14               https://github.com/dataease/dataease  \n",
              "15     https://github.com/guipsamora/pandas_exercises  \n",
              "16               https://github.com/Yorko/mlcourse.ai  \n",
              "17         https://github.com/statsmodels/statsmodels  \n",
              "18                   https://github.com/yzhao062/pyod  \n",
              "19                     https://github.com/gonum/gonum  "
            ],
            "text/html": [
              "\n",
              "  <div id=\"df-9d4d46c2-88b9-4847-9507-6db60bf2e628\">\n",
              "    <div class=\"colab-df-container\">\n",
              "      <div>\n",
              "<style scoped>\n",
              "    .dataframe tbody tr th:only-of-type {\n",
              "        vertical-align: middle;\n",
              "    }\n",
              "\n",
              "    .dataframe tbody tr th {\n",
              "        vertical-align: top;\n",
              "    }\n",
              "\n",
              "    .dataframe thead th {\n",
              "        text-align: right;\n",
              "    }\n",
              "</style>\n",
              "<table border=\"1\" class=\"dataframe\">\n",
              "  <thead>\n",
              "    <tr style=\"text-align: right;\">\n",
              "      <th></th>\n",
              "      <th>repository_name</th>\n",
              "      <th>owner_username</th>\n",
              "      <th>stars</th>\n",
              "      <th>repository_url</th>\n",
              "    </tr>\n",
              "  </thead>\n",
              "  <tbody>\n",
              "    <tr>\n",
              "      <th>0</th>\n",
              "      <td>scikit-learn</td>\n",
              "      <td>scikit-learn</td>\n",
              "      <td>53400</td>\n",
              "      <td>https://github.com/scikit-learn/scikit-learn</td>\n",
              "    </tr>\n",
              "    <tr>\n",
              "      <th>1</th>\n",
              "      <td>superset</td>\n",
              "      <td>apache</td>\n",
              "      <td>51100</td>\n",
              "      <td>https://github.com/apache/superset</td>\n",
              "    </tr>\n",
              "    <tr>\n",
              "      <th>2</th>\n",
              "      <td>pandas</td>\n",
              "      <td>pandas-dev</td>\n",
              "      <td>37300</td>\n",
              "      <td>https://github.com/pandas-dev/pandas</td>\n",
              "    </tr>\n",
              "    <tr>\n",
              "      <th>3</th>\n",
              "      <td>metabase</td>\n",
              "      <td>metabase</td>\n",
              "      <td>31800</td>\n",
              "      <td>https://github.com/metabase/metabase</td>\n",
              "    </tr>\n",
              "    <tr>\n",
              "      <th>4</th>\n",
              "      <td>AI-Expert-Roadmap</td>\n",
              "      <td>AMAI-GmbH</td>\n",
              "      <td>24400</td>\n",
              "      <td>https://github.com/AMAI-GmbH/AI-Expert-Roadmap</td>\n",
              "    </tr>\n",
              "    <tr>\n",
              "      <th>5</th>\n",
              "      <td>streamlit</td>\n",
              "      <td>streamlit</td>\n",
              "      <td>23400</td>\n",
              "      <td>https://github.com/streamlit/streamlit</td>\n",
              "    </tr>\n",
              "    <tr>\n",
              "      <th>6</th>\n",
              "      <td>CyberChef</td>\n",
              "      <td>gchq</td>\n",
              "      <td>20600</td>\n",
              "      <td>https://github.com/gchq/CyberChef</td>\n",
              "    </tr>\n",
              "    <tr>\n",
              "      <th>7</th>\n",
              "      <td>Data-Science-For-Beginners</td>\n",
              "      <td>microsoft</td>\n",
              "      <td>18300</td>\n",
              "      <td>https://github.com/microsoft/Data-Science-For-...</td>\n",
              "    </tr>\n",
              "    <tr>\n",
              "      <th>8</th>\n",
              "      <td>goaccess</td>\n",
              "      <td>allinurl</td>\n",
              "      <td>15900</td>\n",
              "      <td>https://github.com/allinurl/goaccess</td>\n",
              "    </tr>\n",
              "    <tr>\n",
              "      <th>9</th>\n",
              "      <td>gradio</td>\n",
              "      <td>gradio-app</td>\n",
              "      <td>14200</td>\n",
              "      <td>https://github.com/gradio-app/gradio</td>\n",
              "    </tr>\n",
              "    <tr>\n",
              "      <th>10</th>\n",
              "      <td>best-of-ml-python</td>\n",
              "      <td>ml-tooling</td>\n",
              "      <td>13100</td>\n",
              "      <td>https://github.com/ml-tooling/best-of-ml-python</td>\n",
              "    </tr>\n",
              "    <tr>\n",
              "      <th>11</th>\n",
              "      <td>ydata-profiling</td>\n",
              "      <td>ydataai</td>\n",
              "      <td>10400</td>\n",
              "      <td>https://github.com/ydataai/ydata-profiling</td>\n",
              "    </tr>\n",
              "    <tr>\n",
              "      <th>12</th>\n",
              "      <td>airbyte</td>\n",
              "      <td>airbytehq</td>\n",
              "      <td>10000</td>\n",
              "      <td>https://github.com/airbytehq/airbyte</td>\n",
              "    </tr>\n",
              "    <tr>\n",
              "      <th>13</th>\n",
              "      <td>OpenRefine</td>\n",
              "      <td>OpenRefine</td>\n",
              "      <td>9400</td>\n",
              "      <td>https://github.com/OpenRefine/OpenRefine</td>\n",
              "    </tr>\n",
              "    <tr>\n",
              "      <th>14</th>\n",
              "      <td>dataease</td>\n",
              "      <td>dataease</td>\n",
              "      <td>9300</td>\n",
              "      <td>https://github.com/dataease/dataease</td>\n",
              "    </tr>\n",
              "    <tr>\n",
              "      <th>15</th>\n",
              "      <td>pandas_exercises</td>\n",
              "      <td>guipsamora</td>\n",
              "      <td>8800</td>\n",
              "      <td>https://github.com/guipsamora/pandas_exercises</td>\n",
              "    </tr>\n",
              "    <tr>\n",
              "      <th>16</th>\n",
              "      <td>mlcourse.ai</td>\n",
              "      <td>Yorko</td>\n",
              "      <td>8700</td>\n",
              "      <td>https://github.com/Yorko/mlcourse.ai</td>\n",
              "    </tr>\n",
              "    <tr>\n",
              "      <th>17</th>\n",
              "      <td>statsmodels</td>\n",
              "      <td>statsmodels</td>\n",
              "      <td>8300</td>\n",
              "      <td>https://github.com/statsmodels/statsmodels</td>\n",
              "    </tr>\n",
              "    <tr>\n",
              "      <th>18</th>\n",
              "      <td>pyod</td>\n",
              "      <td>yzhao062</td>\n",
              "      <td>6800</td>\n",
              "      <td>https://github.com/yzhao062/pyod</td>\n",
              "    </tr>\n",
              "    <tr>\n",
              "      <th>19</th>\n",
              "      <td>gonum</td>\n",
              "      <td>gonum</td>\n",
              "      <td>6400</td>\n",
              "      <td>https://github.com/gonum/gonum</td>\n",
              "    </tr>\n",
              "  </tbody>\n",
              "</table>\n",
              "</div>\n",
              "      <button class=\"colab-df-convert\" onclick=\"convertToInteractive('df-9d4d46c2-88b9-4847-9507-6db60bf2e628')\"\n",
              "              title=\"Convert this dataframe to an interactive table.\"\n",
              "              style=\"display:none;\">\n",
              "        \n",
              "  <svg xmlns=\"http://www.w3.org/2000/svg\" height=\"24px\"viewBox=\"0 0 24 24\"\n",
              "       width=\"24px\">\n",
              "    <path d=\"M0 0h24v24H0V0z\" fill=\"none\"/>\n",
              "    <path d=\"M18.56 5.44l.94 2.06.94-2.06 2.06-.94-2.06-.94-.94-2.06-.94 2.06-2.06.94zm-11 1L8.5 8.5l.94-2.06 2.06-.94-2.06-.94L8.5 2.5l-.94 2.06-2.06.94zm10 10l.94 2.06.94-2.06 2.06-.94-2.06-.94-.94-2.06-.94 2.06-2.06.94z\"/><path d=\"M17.41 7.96l-1.37-1.37c-.4-.4-.92-.59-1.43-.59-.52 0-1.04.2-1.43.59L10.3 9.45l-7.72 7.72c-.78.78-.78 2.05 0 2.83L4 21.41c.39.39.9.59 1.41.59.51 0 1.02-.2 1.41-.59l7.78-7.78 2.81-2.81c.8-.78.8-2.07 0-2.86zM5.41 20L4 18.59l7.72-7.72 1.47 1.35L5.41 20z\"/>\n",
              "  </svg>\n",
              "      </button>\n",
              "      \n",
              "  <style>\n",
              "    .colab-df-container {\n",
              "      display:flex;\n",
              "      flex-wrap:wrap;\n",
              "      gap: 12px;\n",
              "    }\n",
              "\n",
              "    .colab-df-convert {\n",
              "      background-color: #E8F0FE;\n",
              "      border: none;\n",
              "      border-radius: 50%;\n",
              "      cursor: pointer;\n",
              "      display: none;\n",
              "      fill: #1967D2;\n",
              "      height: 32px;\n",
              "      padding: 0 0 0 0;\n",
              "      width: 32px;\n",
              "    }\n",
              "\n",
              "    .colab-df-convert:hover {\n",
              "      background-color: #E2EBFA;\n",
              "      box-shadow: 0px 1px 2px rgba(60, 64, 67, 0.3), 0px 1px 3px 1px rgba(60, 64, 67, 0.15);\n",
              "      fill: #174EA6;\n",
              "    }\n",
              "\n",
              "    [theme=dark] .colab-df-convert {\n",
              "      background-color: #3B4455;\n",
              "      fill: #D2E3FC;\n",
              "    }\n",
              "\n",
              "    [theme=dark] .colab-df-convert:hover {\n",
              "      background-color: #434B5C;\n",
              "      box-shadow: 0px 1px 3px 1px rgba(0, 0, 0, 0.15);\n",
              "      filter: drop-shadow(0px 1px 2px rgba(0, 0, 0, 0.3));\n",
              "      fill: #FFFFFF;\n",
              "    }\n",
              "  </style>\n",
              "\n",
              "      <script>\n",
              "        const buttonEl =\n",
              "          document.querySelector('#df-9d4d46c2-88b9-4847-9507-6db60bf2e628 button.colab-df-convert');\n",
              "        buttonEl.style.display =\n",
              "          google.colab.kernel.accessAllowed ? 'block' : 'none';\n",
              "\n",
              "        async function convertToInteractive(key) {\n",
              "          const element = document.querySelector('#df-9d4d46c2-88b9-4847-9507-6db60bf2e628');\n",
              "          const dataTable =\n",
              "            await google.colab.kernel.invokeFunction('convertToInteractive',\n",
              "                                                     [key], {});\n",
              "          if (!dataTable) return;\n",
              "\n",
              "          const docLinkHtml = 'Like what you see? Visit the ' +\n",
              "            '<a target=\"_blank\" href=https://colab.research.google.com/notebooks/data_table.ipynb>data table notebook</a>'\n",
              "            + ' to learn more about interactive tables.';\n",
              "          element.innerHTML = '';\n",
              "          dataTable['output_type'] = 'display_data';\n",
              "          await google.colab.output.renderOutput(dataTable, element);\n",
              "          const docLink = document.createElement('div');\n",
              "          docLink.innerHTML = docLinkHtml;\n",
              "          element.appendChild(docLink);\n",
              "        }\n",
              "      </script>\n",
              "    </div>\n",
              "  </div>\n",
              "  "
            ]
          },
          "metadata": {},
          "execution_count": 28
        }
      ]
    },
    {
      "cell_type": "code",
      "source": [
        "scrape_topic_repositories('python')"
      ],
      "metadata": {
        "colab": {
          "base_uri": "https://localhost:8080/",
          "height": 53
        },
        "id": "OBUlnPJyBTTO",
        "outputId": "a20a5585-d3ef-4104-87f5-e840fb25d31f"
      },
      "execution_count": null,
      "outputs": [
        {
          "output_type": "stream",
          "name": "stdout",
          "text": [
            "Top repositories for topic \"python\" written to file \"python.csv\"\n"
          ]
        },
        {
          "output_type": "execute_result",
          "data": {
            "text/plain": [
              "'python.csv'"
            ],
            "application/vnd.google.colaboratory.intrinsic+json": {
              "type": "string"
            }
          },
          "metadata": {},
          "execution_count": 29
        }
      ]
    },
    {
      "cell_type": "code",
      "source": [
        "pd.read_csv('python.csv')"
      ],
      "metadata": {
        "colab": {
          "base_uri": "https://localhost:8080/",
          "height": 755
        },
        "id": "3Xs7SSjXBWMa",
        "outputId": "b8a6b862-867a-4963-b447-a52a9346a50f"
      },
      "execution_count": null,
      "outputs": [
        {
          "output_type": "execute_result",
          "data": {
            "text/plain": [
              "                 repository_name       owner_username   stars  \\\n",
              "0           system-design-primer          donnemartin  215000   \n",
              "1                     tensorflow           tensorflow  172000   \n",
              "2                       CS-Notes              CyC2018  163000   \n",
              "3                 awesome-python                vinta  160000   \n",
              "4                         Python        TheAlgorithms  156000   \n",
              "5   free-programming-books-zh_CN            justjavac  101000   \n",
              "6         project-based-learning  practical-tutorials   94900   \n",
              "7                   transformers          huggingface   86500   \n",
              "8                        thefuck                 nvbn   76400   \n",
              "9                         django               django   69400   \n",
              "10                   HelloGitHub         521xueweihan   66300   \n",
              "11                       pytorch              pytorch   64099   \n",
              "12                         flask              pallets   62300   \n",
              "13                          core       home-assistant   59100   \n",
              "14                         keras           keras-team   57700   \n",
              "15                       ansible              ansible   56700   \n",
              "16                       fastapi             tiangolo   55700   \n",
              "17                  scikit-learn         scikit-learn   53400   \n",
              "18                      superset               apache   51100   \n",
              "19                      leetcode         azl397985856   50800   \n",
              "\n",
              "                                       repository_url  \n",
              "0   https://github.com/donnemartin/system-design-p...  \n",
              "1            https://github.com/tensorflow/tensorflow  \n",
              "2                 https://github.com/CyC2018/CS-Notes  \n",
              "3             https://github.com/vinta/awesome-python  \n",
              "4             https://github.com/TheAlgorithms/Python  \n",
              "5   https://github.com/justjavac/free-programming-...  \n",
              "6   https://github.com/practical-tutorials/project...  \n",
              "7         https://github.com/huggingface/transformers  \n",
              "8                     https://github.com/nvbn/thefuck  \n",
              "9                    https://github.com/django/django  \n",
              "10        https://github.com/521xueweihan/HelloGitHub  \n",
              "11                 https://github.com/pytorch/pytorch  \n",
              "12                   https://github.com/pallets/flask  \n",
              "13             https://github.com/home-assistant/core  \n",
              "14                https://github.com/keras-team/keras  \n",
              "15                 https://github.com/ansible/ansible  \n",
              "16                https://github.com/tiangolo/fastapi  \n",
              "17       https://github.com/scikit-learn/scikit-learn  \n",
              "18                 https://github.com/apache/superset  \n",
              "19           https://github.com/azl397985856/leetcode  "
            ],
            "text/html": [
              "\n",
              "  <div id=\"df-69f820fb-4876-4573-bcad-75646d9c976b\">\n",
              "    <div class=\"colab-df-container\">\n",
              "      <div>\n",
              "<style scoped>\n",
              "    .dataframe tbody tr th:only-of-type {\n",
              "        vertical-align: middle;\n",
              "    }\n",
              "\n",
              "    .dataframe tbody tr th {\n",
              "        vertical-align: top;\n",
              "    }\n",
              "\n",
              "    .dataframe thead th {\n",
              "        text-align: right;\n",
              "    }\n",
              "</style>\n",
              "<table border=\"1\" class=\"dataframe\">\n",
              "  <thead>\n",
              "    <tr style=\"text-align: right;\">\n",
              "      <th></th>\n",
              "      <th>repository_name</th>\n",
              "      <th>owner_username</th>\n",
              "      <th>stars</th>\n",
              "      <th>repository_url</th>\n",
              "    </tr>\n",
              "  </thead>\n",
              "  <tbody>\n",
              "    <tr>\n",
              "      <th>0</th>\n",
              "      <td>system-design-primer</td>\n",
              "      <td>donnemartin</td>\n",
              "      <td>215000</td>\n",
              "      <td>https://github.com/donnemartin/system-design-p...</td>\n",
              "    </tr>\n",
              "    <tr>\n",
              "      <th>1</th>\n",
              "      <td>tensorflow</td>\n",
              "      <td>tensorflow</td>\n",
              "      <td>172000</td>\n",
              "      <td>https://github.com/tensorflow/tensorflow</td>\n",
              "    </tr>\n",
              "    <tr>\n",
              "      <th>2</th>\n",
              "      <td>CS-Notes</td>\n",
              "      <td>CyC2018</td>\n",
              "      <td>163000</td>\n",
              "      <td>https://github.com/CyC2018/CS-Notes</td>\n",
              "    </tr>\n",
              "    <tr>\n",
              "      <th>3</th>\n",
              "      <td>awesome-python</td>\n",
              "      <td>vinta</td>\n",
              "      <td>160000</td>\n",
              "      <td>https://github.com/vinta/awesome-python</td>\n",
              "    </tr>\n",
              "    <tr>\n",
              "      <th>4</th>\n",
              "      <td>Python</td>\n",
              "      <td>TheAlgorithms</td>\n",
              "      <td>156000</td>\n",
              "      <td>https://github.com/TheAlgorithms/Python</td>\n",
              "    </tr>\n",
              "    <tr>\n",
              "      <th>5</th>\n",
              "      <td>free-programming-books-zh_CN</td>\n",
              "      <td>justjavac</td>\n",
              "      <td>101000</td>\n",
              "      <td>https://github.com/justjavac/free-programming-...</td>\n",
              "    </tr>\n",
              "    <tr>\n",
              "      <th>6</th>\n",
              "      <td>project-based-learning</td>\n",
              "      <td>practical-tutorials</td>\n",
              "      <td>94900</td>\n",
              "      <td>https://github.com/practical-tutorials/project...</td>\n",
              "    </tr>\n",
              "    <tr>\n",
              "      <th>7</th>\n",
              "      <td>transformers</td>\n",
              "      <td>huggingface</td>\n",
              "      <td>86500</td>\n",
              "      <td>https://github.com/huggingface/transformers</td>\n",
              "    </tr>\n",
              "    <tr>\n",
              "      <th>8</th>\n",
              "      <td>thefuck</td>\n",
              "      <td>nvbn</td>\n",
              "      <td>76400</td>\n",
              "      <td>https://github.com/nvbn/thefuck</td>\n",
              "    </tr>\n",
              "    <tr>\n",
              "      <th>9</th>\n",
              "      <td>django</td>\n",
              "      <td>django</td>\n",
              "      <td>69400</td>\n",
              "      <td>https://github.com/django/django</td>\n",
              "    </tr>\n",
              "    <tr>\n",
              "      <th>10</th>\n",
              "      <td>HelloGitHub</td>\n",
              "      <td>521xueweihan</td>\n",
              "      <td>66300</td>\n",
              "      <td>https://github.com/521xueweihan/HelloGitHub</td>\n",
              "    </tr>\n",
              "    <tr>\n",
              "      <th>11</th>\n",
              "      <td>pytorch</td>\n",
              "      <td>pytorch</td>\n",
              "      <td>64099</td>\n",
              "      <td>https://github.com/pytorch/pytorch</td>\n",
              "    </tr>\n",
              "    <tr>\n",
              "      <th>12</th>\n",
              "      <td>flask</td>\n",
              "      <td>pallets</td>\n",
              "      <td>62300</td>\n",
              "      <td>https://github.com/pallets/flask</td>\n",
              "    </tr>\n",
              "    <tr>\n",
              "      <th>13</th>\n",
              "      <td>core</td>\n",
              "      <td>home-assistant</td>\n",
              "      <td>59100</td>\n",
              "      <td>https://github.com/home-assistant/core</td>\n",
              "    </tr>\n",
              "    <tr>\n",
              "      <th>14</th>\n",
              "      <td>keras</td>\n",
              "      <td>keras-team</td>\n",
              "      <td>57700</td>\n",
              "      <td>https://github.com/keras-team/keras</td>\n",
              "    </tr>\n",
              "    <tr>\n",
              "      <th>15</th>\n",
              "      <td>ansible</td>\n",
              "      <td>ansible</td>\n",
              "      <td>56700</td>\n",
              "      <td>https://github.com/ansible/ansible</td>\n",
              "    </tr>\n",
              "    <tr>\n",
              "      <th>16</th>\n",
              "      <td>fastapi</td>\n",
              "      <td>tiangolo</td>\n",
              "      <td>55700</td>\n",
              "      <td>https://github.com/tiangolo/fastapi</td>\n",
              "    </tr>\n",
              "    <tr>\n",
              "      <th>17</th>\n",
              "      <td>scikit-learn</td>\n",
              "      <td>scikit-learn</td>\n",
              "      <td>53400</td>\n",
              "      <td>https://github.com/scikit-learn/scikit-learn</td>\n",
              "    </tr>\n",
              "    <tr>\n",
              "      <th>18</th>\n",
              "      <td>superset</td>\n",
              "      <td>apache</td>\n",
              "      <td>51100</td>\n",
              "      <td>https://github.com/apache/superset</td>\n",
              "    </tr>\n",
              "    <tr>\n",
              "      <th>19</th>\n",
              "      <td>leetcode</td>\n",
              "      <td>azl397985856</td>\n",
              "      <td>50800</td>\n",
              "      <td>https://github.com/azl397985856/leetcode</td>\n",
              "    </tr>\n",
              "  </tbody>\n",
              "</table>\n",
              "</div>\n",
              "      <button class=\"colab-df-convert\" onclick=\"convertToInteractive('df-69f820fb-4876-4573-bcad-75646d9c976b')\"\n",
              "              title=\"Convert this dataframe to an interactive table.\"\n",
              "              style=\"display:none;\">\n",
              "        \n",
              "  <svg xmlns=\"http://www.w3.org/2000/svg\" height=\"24px\"viewBox=\"0 0 24 24\"\n",
              "       width=\"24px\">\n",
              "    <path d=\"M0 0h24v24H0V0z\" fill=\"none\"/>\n",
              "    <path d=\"M18.56 5.44l.94 2.06.94-2.06 2.06-.94-2.06-.94-.94-2.06-.94 2.06-2.06.94zm-11 1L8.5 8.5l.94-2.06 2.06-.94-2.06-.94L8.5 2.5l-.94 2.06-2.06.94zm10 10l.94 2.06.94-2.06 2.06-.94-2.06-.94-.94-2.06-.94 2.06-2.06.94z\"/><path d=\"M17.41 7.96l-1.37-1.37c-.4-.4-.92-.59-1.43-.59-.52 0-1.04.2-1.43.59L10.3 9.45l-7.72 7.72c-.78.78-.78 2.05 0 2.83L4 21.41c.39.39.9.59 1.41.59.51 0 1.02-.2 1.41-.59l7.78-7.78 2.81-2.81c.8-.78.8-2.07 0-2.86zM5.41 20L4 18.59l7.72-7.72 1.47 1.35L5.41 20z\"/>\n",
              "  </svg>\n",
              "      </button>\n",
              "      \n",
              "  <style>\n",
              "    .colab-df-container {\n",
              "      display:flex;\n",
              "      flex-wrap:wrap;\n",
              "      gap: 12px;\n",
              "    }\n",
              "\n",
              "    .colab-df-convert {\n",
              "      background-color: #E8F0FE;\n",
              "      border: none;\n",
              "      border-radius: 50%;\n",
              "      cursor: pointer;\n",
              "      display: none;\n",
              "      fill: #1967D2;\n",
              "      height: 32px;\n",
              "      padding: 0 0 0 0;\n",
              "      width: 32px;\n",
              "    }\n",
              "\n",
              "    .colab-df-convert:hover {\n",
              "      background-color: #E2EBFA;\n",
              "      box-shadow: 0px 1px 2px rgba(60, 64, 67, 0.3), 0px 1px 3px 1px rgba(60, 64, 67, 0.15);\n",
              "      fill: #174EA6;\n",
              "    }\n",
              "\n",
              "    [theme=dark] .colab-df-convert {\n",
              "      background-color: #3B4455;\n",
              "      fill: #D2E3FC;\n",
              "    }\n",
              "\n",
              "    [theme=dark] .colab-df-convert:hover {\n",
              "      background-color: #434B5C;\n",
              "      box-shadow: 0px 1px 3px 1px rgba(0, 0, 0, 0.15);\n",
              "      filter: drop-shadow(0px 1px 2px rgba(0, 0, 0, 0.3));\n",
              "      fill: #FFFFFF;\n",
              "    }\n",
              "  </style>\n",
              "\n",
              "      <script>\n",
              "        const buttonEl =\n",
              "          document.querySelector('#df-69f820fb-4876-4573-bcad-75646d9c976b button.colab-df-convert');\n",
              "        buttonEl.style.display =\n",
              "          google.colab.kernel.accessAllowed ? 'block' : 'none';\n",
              "\n",
              "        async function convertToInteractive(key) {\n",
              "          const element = document.querySelector('#df-69f820fb-4876-4573-bcad-75646d9c976b');\n",
              "          const dataTable =\n",
              "            await google.colab.kernel.invokeFunction('convertToInteractive',\n",
              "                                                     [key], {});\n",
              "          if (!dataTable) return;\n",
              "\n",
              "          const docLinkHtml = 'Like what you see? Visit the ' +\n",
              "            '<a target=\"_blank\" href=https://colab.research.google.com/notebooks/data_table.ipynb>data table notebook</a>'\n",
              "            + ' to learn more about interactive tables.';\n",
              "          element.innerHTML = '';\n",
              "          dataTable['output_type'] = 'display_data';\n",
              "          await google.colab.output.renderOutput(dataTable, element);\n",
              "          const docLink = document.createElement('div');\n",
              "          docLink.innerHTML = docLinkHtml;\n",
              "          element.appendChild(docLink);\n",
              "        }\n",
              "      </script>\n",
              "    </div>\n",
              "  </div>\n",
              "  "
            ]
          },
          "metadata": {},
          "execution_count": 30
        }
      ]
    }
  ],
  "metadata": {
    "colab": {
      "provenance": []
    },
    "kernelspec": {
      "display_name": "Python 3",
      "name": "python3"
    },
    "language_info": {
      "name": "python"
    }
  },
  "nbformat": 4,
  "nbformat_minor": 0
}